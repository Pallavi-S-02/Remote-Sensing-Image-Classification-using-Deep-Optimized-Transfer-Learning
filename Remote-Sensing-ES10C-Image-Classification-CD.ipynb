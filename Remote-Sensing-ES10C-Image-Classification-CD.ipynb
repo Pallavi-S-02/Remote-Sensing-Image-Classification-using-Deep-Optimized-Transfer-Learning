{
 "cells": [
  {
   "cell_type": "code",
   "execution_count": 1,
   "metadata": {},
   "outputs": [],
   "source": [
    "import os, cv2, json, random, itertools, rasterio, math, time, psutil, warnings\n",
    "warnings.filterwarnings(\"ignore\")"
   ]
  },
  {
   "cell_type": "code",
   "execution_count": 2,
   "metadata": {},
   "outputs": [],
   "source": [
    "from tqdm import tqdm"
   ]
  },
  {
   "cell_type": "code",
   "execution_count": 3,
   "metadata": {},
   "outputs": [],
   "source": [
    "from IPython.display import SVG"
   ]
  },
  {
   "cell_type": "code",
   "execution_count": 4,
   "metadata": {},
   "outputs": [],
   "source": [
    "import numpy as np"
   ]
  },
  {
   "cell_type": "code",
   "execution_count": 5,
   "metadata": {},
   "outputs": [],
   "source": [
    "import pandas as pd"
   ]
  },
  {
   "cell_type": "code",
   "execution_count": 6,
   "metadata": {},
   "outputs": [],
   "source": [
    "import matplotlib.pyplot as plt"
   ]
  },
  {
   "cell_type": "code",
   "execution_count": 7,
   "metadata": {},
   "outputs": [],
   "source": [
    "import seaborn as sns"
   ]
  },
  {
   "cell_type": "code",
   "execution_count": 8,
   "metadata": {},
   "outputs": [],
   "source": [
    "from sklearn.model_selection import train_test_split"
   ]
  },
  {
   "cell_type": "code",
   "execution_count": 9,
   "metadata": {},
   "outputs": [],
   "source": [
    "from sklearn.metrics import confusion_matrix, f1_score"
   ]
  },
  {
   "cell_type": "code",
   "execution_count": 10,
   "metadata": {},
   "outputs": [],
   "source": [
    "from sklearn.preprocessing import *"
   ]
  },
  {
   "cell_type": "code",
   "execution_count": 11,
   "metadata": {},
   "outputs": [],
   "source": [
    "from tensorflow.keras.utils import plot_model, model_to_dot, to_categorical, Sequence"
   ]
  },
  {
   "cell_type": "code",
   "execution_count": 12,
   "metadata": {},
   "outputs": [],
   "source": [
    "from tensorflow.keras.models import Sequential, Model, load_model"
   ]
  },
  {
   "cell_type": "code",
   "execution_count": 13,
   "metadata": {},
   "outputs": [],
   "source": [
    "from tensorflow.keras.layers import (Add, Input, Conv2D, Dropout, Activation, BatchNormalization, MaxPooling2D, ZeroPadding2D, AveragePooling2D, Flatten, Dense, Concatenate)"
   ]
  },
  {
   "cell_type": "code",
   "execution_count": 14,
   "metadata": {},
   "outputs": [],
   "source": [
    "from tensorflow.keras.optimizers import Adam, SGD"
   ]
  },
  {
   "cell_type": "code",
   "execution_count": 15,
   "metadata": {},
   "outputs": [],
   "source": [
    "from tensorflow.keras.callbacks import TensorBoard, ModelCheckpoint, Callback, LearningRateScheduler"
   ]
  },
  {
   "cell_type": "code",
   "execution_count": 16,
   "metadata": {},
   "outputs": [],
   "source": [
    "from tensorflow.keras.preprocessing.image import ImageDataGenerator"
   ]
  },
  {
   "cell_type": "code",
   "execution_count": 17,
   "metadata": {},
   "outputs": [],
   "source": [
    "from tensorflow.keras.initializers import *"
   ]
  },
  {
   "cell_type": "code",
   "execution_count": 18,
   "metadata": {},
   "outputs": [],
   "source": [
    "from tensorflow.keras.regularizers import *"
   ]
  },
  {
   "cell_type": "code",
   "execution_count": 19,
   "metadata": {},
   "outputs": [],
   "source": [
    "from tensorflow.keras.preprocessing.image import img_to_array, load_img"
   ]
  },
  {
   "cell_type": "code",
   "execution_count": 20,
   "metadata": {},
   "outputs": [],
   "source": [
    "from tensorflow.keras.applications.resnet import ResNet50"
   ]
  },
  {
   "cell_type": "code",
   "execution_count": 21,
   "metadata": {},
   "outputs": [],
   "source": [
    "from tensorflow.keras.applications.resnet50 import preprocess_input, decode_predictions"
   ]
  },
  {
   "cell_type": "code",
   "execution_count": 22,
   "metadata": {
    "scrolled": true
   },
   "outputs": [
    {
     "data": {
      "text/plain": [
       "{'AnnualCrop': 0,\n",
       " 'Forest': 1,\n",
       " 'HerbaceousVegetation': 2,\n",
       " 'Highway': 3,\n",
       " 'Industrial': 4,\n",
       " 'Pasture': 5,\n",
       " 'PermanentCrop': 6,\n",
       " 'Residential': 7,\n",
       " 'River': 8,\n",
       " 'SeaLake': 9}"
      ]
     },
     "execution_count": 22,
     "metadata": {},
     "output_type": "execute_result"
    }
   ],
   "source": [
    "with open(\"Dataset/label_map.json\",\"r\") as f:\n",
    "    class_names_encoded = json.load(f)\n",
    "    pass\n",
    "\n",
    "class_names = list(class_names_encoded.keys())\n",
    "num_classes = len(class_names)\n",
    "class_names_encoded"
   ]
  },
  {
   "cell_type": "code",
   "execution_count": 23,
   "metadata": {
    "scrolled": true
   },
   "outputs": [],
   "source": [
    "bands = {'1':1,'2':2,'3':3,'4':4,'5':5,'6':6,'7':7,'8':8,'8a':9,'9':10,'10':11,'11':12,'12':13}"
   ]
  },
  {
   "cell_type": "code",
   "execution_count": 24,
   "metadata": {
    "scrolled": true
   },
   "outputs": [],
   "source": [
    "def Normalise(arr_band):\n",
    "    \n",
    "    return StandardScaler().fit_transform(arr_band)"
   ]
  },
  {
   "cell_type": "code",
   "execution_count": 25,
   "metadata": {
    "scrolled": true
   },
   "outputs": [],
   "source": [
    "basePath = \"Dataset/\"\n",
    "\n",
    "def data_generator(csv_file, num_classes, batch_size = 10, target_size = 64):\n",
    "    i = 0\n",
    "    classes = set()\n",
    "    df = pd.read_csv(csv_file)\n",
    "    num_samples = df.shape[0]\n",
    "    \n",
    "    while True:\n",
    "        for offset in range(0, num_samples, batch_size):\n",
    "            batch_samples_idx = df.index[offset:offset+batch_size]\n",
    "\n",
    "            X, y = [], []\n",
    "\n",
    "            for i in batch_samples_idx:\n",
    "                img_name = df.loc[i,'Filename']\n",
    "                label = df.loc[i,'Label']\n",
    "\n",
    "                src = rasterio.open(os.path.join(basePath,img_name))\n",
    "\n",
    "                arr_3, arr_4, arr_8 = src.read(bands['3']).astype(np.float32), src.read(bands['4']).astype(np.float32), src.read(bands['8']).astype(np.float32)\n",
    "                arr_6, arr_7 = src.read(bands['6']).astype(np.float32), src.read(bands['7']).astype(np.float32)\n",
    "                arr_11 = src.read(bands['11']).astype(np.float32)\n",
    "\n",
    "                arr_3 = Normalise(arr_3)\n",
    "                arr_4 = Normalise(arr_4)\n",
    "                arr_6, arr_7 = Normalise(arr_6), Normalise(arr_7)\n",
    "                arr_8 = Normalise(arr_8)\n",
    "                arr_11 = Normalise(arr_11)\n",
    "\n",
    "                bands_10_20 = np.dstack((arr_3, arr_4, arr_6, arr_7, arr_8, arr_11))\n",
    "\n",
    "                X.append(bands_10_20)\n",
    "                y.append(label)\n",
    "                pass\n",
    "\n",
    "            X = np.array(X)\n",
    "            y = np.array(y)\n",
    "            y = to_categorical(y, num_classes = num_classes)\n",
    "            \n",
    "            yield X, y\n",
    "            pass\n",
    "        pass\n",
    "    pass\n"
   ]
  },
  {
   "cell_type": "code",
   "execution_count": 26,
   "metadata": {
    "scrolled": true
   },
   "outputs": [],
   "source": [
    "train_generator = data_generator(csv_file = \"Dataset/train.csv\", num_classes = 10, batch_size = 10)"
   ]
  },
  {
   "cell_type": "code",
   "execution_count": 27,
   "metadata": {},
   "outputs": [],
   "source": [
    "val_generator = data_generator(csv_file = \"Dataset/validation.csv\", num_classes = 10, batch_size = 10)"
   ]
  },
  {
   "cell_type": "code",
   "execution_count": 28,
   "metadata": {},
   "outputs": [],
   "source": [
    "train_df = pd.read_csv(\"Dataset/train.csv\")"
   ]
  },
  {
   "cell_type": "code",
   "execution_count": 29,
   "metadata": {},
   "outputs": [
    {
     "data": {
      "text/html": [
       "<div>\n",
       "<style scoped>\n",
       "    .dataframe tbody tr th:only-of-type {\n",
       "        vertical-align: middle;\n",
       "    }\n",
       "\n",
       "    .dataframe tbody tr th {\n",
       "        vertical-align: top;\n",
       "    }\n",
       "\n",
       "    .dataframe thead th {\n",
       "        text-align: right;\n",
       "    }\n",
       "</style>\n",
       "<table border=\"1\" class=\"dataframe\">\n",
       "  <thead>\n",
       "    <tr style=\"text-align: right;\">\n",
       "      <th></th>\n",
       "      <th>Filename</th>\n",
       "      <th>Label</th>\n",
       "      <th>ClassName</th>\n",
       "    </tr>\n",
       "  </thead>\n",
       "  <tbody>\n",
       "    <tr>\n",
       "      <th>0</th>\n",
       "      <td>PermanentCrop/PermanentCrop_2401.tif</td>\n",
       "      <td>6</td>\n",
       "      <td>PermanentCrop</td>\n",
       "    </tr>\n",
       "    <tr>\n",
       "      <th>1</th>\n",
       "      <td>PermanentCrop/PermanentCrop_1006.tif</td>\n",
       "      <td>6</td>\n",
       "      <td>PermanentCrop</td>\n",
       "    </tr>\n",
       "    <tr>\n",
       "      <th>2</th>\n",
       "      <td>HerbaceousVegetation/HerbaceousVegetation_1025...</td>\n",
       "      <td>2</td>\n",
       "      <td>HerbaceousVegetation</td>\n",
       "    </tr>\n",
       "    <tr>\n",
       "      <th>3</th>\n",
       "      <td>SeaLake/SeaLake_1439.tif</td>\n",
       "      <td>9</td>\n",
       "      <td>SeaLake</td>\n",
       "    </tr>\n",
       "    <tr>\n",
       "      <th>4</th>\n",
       "      <td>River/River_1052.tif</td>\n",
       "      <td>8</td>\n",
       "      <td>River</td>\n",
       "    </tr>\n",
       "  </tbody>\n",
       "</table>\n",
       "</div>"
      ],
      "text/plain": [
       "                                            Filename  Label  \\\n",
       "0               PermanentCrop/PermanentCrop_2401.tif      6   \n",
       "1               PermanentCrop/PermanentCrop_1006.tif      6   \n",
       "2  HerbaceousVegetation/HerbaceousVegetation_1025...      2   \n",
       "3                           SeaLake/SeaLake_1439.tif      9   \n",
       "4                               River/River_1052.tif      8   \n",
       "\n",
       "              ClassName  \n",
       "0         PermanentCrop  \n",
       "1         PermanentCrop  \n",
       "2  HerbaceousVegetation  \n",
       "3               SeaLake  \n",
       "4                 River  "
      ]
     },
     "execution_count": 29,
     "metadata": {},
     "output_type": "execute_result"
    }
   ],
   "source": [
    "train_df.head()"
   ]
  },
  {
   "cell_type": "code",
   "execution_count": 30,
   "metadata": {},
   "outputs": [
    {
     "data": {
      "text/html": [
       "<div>\n",
       "<style scoped>\n",
       "    .dataframe tbody tr th:only-of-type {\n",
       "        vertical-align: middle;\n",
       "    }\n",
       "\n",
       "    .dataframe tbody tr th {\n",
       "        vertical-align: top;\n",
       "    }\n",
       "\n",
       "    .dataframe thead th {\n",
       "        text-align: right;\n",
       "    }\n",
       "</style>\n",
       "<table border=\"1\" class=\"dataframe\">\n",
       "  <thead>\n",
       "    <tr style=\"text-align: right;\">\n",
       "      <th></th>\n",
       "      <th>Count</th>\n",
       "    </tr>\n",
       "    <tr>\n",
       "      <th>ClassName</th>\n",
       "      <th></th>\n",
       "    </tr>\n",
       "  </thead>\n",
       "  <tbody>\n",
       "    <tr>\n",
       "      <th>AnnualCrop</th>\n",
       "      <td>2100</td>\n",
       "    </tr>\n",
       "    <tr>\n",
       "      <th>Forest</th>\n",
       "      <td>2100</td>\n",
       "    </tr>\n",
       "    <tr>\n",
       "      <th>HerbaceousVegetation</th>\n",
       "      <td>2100</td>\n",
       "    </tr>\n",
       "    <tr>\n",
       "      <th>Highway</th>\n",
       "      <td>1750</td>\n",
       "    </tr>\n",
       "    <tr>\n",
       "      <th>Industrial</th>\n",
       "      <td>1750</td>\n",
       "    </tr>\n",
       "    <tr>\n",
       "      <th>Pasture</th>\n",
       "      <td>1400</td>\n",
       "    </tr>\n",
       "    <tr>\n",
       "      <th>PermanentCrop</th>\n",
       "      <td>1750</td>\n",
       "    </tr>\n",
       "    <tr>\n",
       "      <th>Residential</th>\n",
       "      <td>2100</td>\n",
       "    </tr>\n",
       "    <tr>\n",
       "      <th>River</th>\n",
       "      <td>1750</td>\n",
       "    </tr>\n",
       "    <tr>\n",
       "      <th>SeaLake</th>\n",
       "      <td>2517</td>\n",
       "    </tr>\n",
       "  </tbody>\n",
       "</table>\n",
       "</div>"
      ],
      "text/plain": [
       "                      Count\n",
       "ClassName                  \n",
       "AnnualCrop             2100\n",
       "Forest                 2100\n",
       "HerbaceousVegetation   2100\n",
       "Highway                1750\n",
       "Industrial             1750\n",
       "Pasture                1400\n",
       "PermanentCrop          1750\n",
       "Residential            2100\n",
       "River                  1750\n",
       "SeaLake                2517"
      ]
     },
     "execution_count": 30,
     "metadata": {},
     "output_type": "execute_result"
    }
   ],
   "source": [
    "_, train_labels_count = np.unique(train_df['Label'], return_counts=True)\n",
    "\n",
    "train_count_df = pd.DataFrame(data = train_labels_count)\n",
    "train_count_df['ClassName'] = class_names\n",
    "train_count_df.columns = ['Count','ClassName']\n",
    "train_count_df.set_index('ClassName', inplace=True)\n",
    "train_count_df"
   ]
  },
  {
   "cell_type": "code",
   "execution_count": 31,
   "metadata": {},
   "outputs": [
    {
     "data": {
      "image/png": "[encoded data removed]",
      "text/plain": [
       "<Figure size 432x288 with 1 Axes>"
      ]
     },
     "metadata": {
      "needs_background": "light"
     },
     "output_type": "display_data"
    }
   ],
   "source": [
    "train_count_df.plot.bar()\n",
    "plt.title(\"Distribution of tif files per class\")\n",
    "plt.ylabel(\"Count\");"
   ]
  },
  {
   "cell_type": "code",
   "execution_count": 32,
   "metadata": {},
   "outputs": [
    {
     "data": {
      "image/png": "[encoded data removed]",
      "text/plain": [
       "<Figure size 432x288 with 1 Axes>"
      ]
     },
     "metadata": {},
     "output_type": "display_data"
    }
   ],
   "source": [
    "plt.pie(train_count_df.Count,\n",
    "       explode = (0,0,0,0,0,0,0,0,0,0),\n",
    "       labels = class_names,\n",
    "       autopct=\"%1.2f%%\")\n",
    "\n",
    "plt.axis('equal');"
   ]
  },
  {
   "cell_type": "code",
   "execution_count": 33,
   "metadata": {},
   "outputs": [],
   "source": [
    "train_labels = train_df.loc[:,'Label']"
   ]
  },
  {
   "cell_type": "code",
   "execution_count": 34,
   "metadata": {},
   "outputs": [],
   "source": [
    "train_labels = np.array(train_labels)"
   ]
  },
  {
   "cell_type": "code",
   "execution_count": 35,
   "metadata": {},
   "outputs": [],
   "source": [
    "num_train_samples = train_labels.shape[0]"
   ]
  },
  {
   "cell_type": "code",
   "execution_count": 36,
   "metadata": {},
   "outputs": [],
   "source": [
    "val_df = pd.read_csv(\"Dataset/validation.csv\")"
   ]
  },
  {
   "cell_type": "code",
   "execution_count": 37,
   "metadata": {},
   "outputs": [
    {
     "data": {
      "text/html": [
       "<div>\n",
       "<style scoped>\n",
       "    .dataframe tbody tr th:only-of-type {\n",
       "        vertical-align: middle;\n",
       "    }\n",
       "\n",
       "    .dataframe tbody tr th {\n",
       "        vertical-align: top;\n",
       "    }\n",
       "\n",
       "    .dataframe thead th {\n",
       "        text-align: right;\n",
       "    }\n",
       "</style>\n",
       "<table border=\"1\" class=\"dataframe\">\n",
       "  <thead>\n",
       "    <tr style=\"text-align: right;\">\n",
       "      <th></th>\n",
       "      <th>Filename</th>\n",
       "      <th>Label</th>\n",
       "      <th>ClassName</th>\n",
       "    </tr>\n",
       "  </thead>\n",
       "  <tbody>\n",
       "    <tr>\n",
       "      <th>0</th>\n",
       "      <td>Residential/Residential_1716.tif</td>\n",
       "      <td>7</td>\n",
       "      <td>Residential</td>\n",
       "    </tr>\n",
       "    <tr>\n",
       "      <th>1</th>\n",
       "      <td>Residential/Residential_735.tif</td>\n",
       "      <td>7</td>\n",
       "      <td>Residential</td>\n",
       "    </tr>\n",
       "    <tr>\n",
       "      <th>2</th>\n",
       "      <td>SeaLake/SeaLake_2384.tif</td>\n",
       "      <td>9</td>\n",
       "      <td>SeaLake</td>\n",
       "    </tr>\n",
       "    <tr>\n",
       "      <th>3</th>\n",
       "      <td>AnnualCrop/AnnualCrop_2534.tif</td>\n",
       "      <td>0</td>\n",
       "      <td>AnnualCrop</td>\n",
       "    </tr>\n",
       "    <tr>\n",
       "      <th>4</th>\n",
       "      <td>PermanentCrop/PermanentCrop_1363.tif</td>\n",
       "      <td>6</td>\n",
       "      <td>PermanentCrop</td>\n",
       "    </tr>\n",
       "  </tbody>\n",
       "</table>\n",
       "</div>"
      ],
      "text/plain": [
       "                               Filename  Label      ClassName\n",
       "0      Residential/Residential_1716.tif      7    Residential\n",
       "1       Residential/Residential_735.tif      7    Residential\n",
       "2              SeaLake/SeaLake_2384.tif      9        SeaLake\n",
       "3        AnnualCrop/AnnualCrop_2534.tif      0     AnnualCrop\n",
       "4  PermanentCrop/PermanentCrop_1363.tif      6  PermanentCrop"
      ]
     },
     "execution_count": 37,
     "metadata": {},
     "output_type": "execute_result"
    }
   ],
   "source": [
    "val_df.head()"
   ]
  },
  {
   "cell_type": "code",
   "execution_count": 38,
   "metadata": {},
   "outputs": [],
   "source": [
    "val_labels = val_df.loc[:,'Label']"
   ]
  },
  {
   "cell_type": "code",
   "execution_count": 39,
   "metadata": {},
   "outputs": [],
   "source": [
    "val_labels = np.array(val_labels)"
   ]
  },
  {
   "cell_type": "code",
   "execution_count": 40,
   "metadata": {},
   "outputs": [],
   "source": [
    "num_val_samples = val_labels.shape[0]"
   ]
  },
  {
   "cell_type": "code",
   "execution_count": 41,
   "metadata": {},
   "outputs": [
    {
     "data": {
      "text/plain": [
       "(19317, 5519)"
      ]
     },
     "execution_count": 41,
     "metadata": {},
     "output_type": "execute_result"
    }
   ],
   "source": [
    "num_train_samples, num_val_samples"
   ]
  },
  {
   "cell_type": "code",
   "execution_count": 42,
   "metadata": {
    "scrolled": true
   },
   "outputs": [],
   "source": [
    "def spectral_block(X,filters,stage,s=1):\n",
    "    \n",
    "    squeeze_base_name = 'squeeze_' + str(stage) + '_branch'\n",
    "    bn_base_name = 'bn_' + str(stage) + \"_branch\"\n",
    "    \n",
    "    F1,F2,F3 = filters\n",
    "    \n",
    "    X = Conv2D(filters=F1, kernel_size=(1,1), strides=(s,s), padding='same', name=squeeze_base_name+'a')(X)\n",
    "    \n",
    "    X_11 = Conv2D(filters=F2, kernel_size=(1,1), strides=(s,s), padding='same', name=squeeze_base_name+'b')(X)\n",
    "    X_33 = Conv2D(filters=F3, kernel_size=(3,3), strides=(s,s), padding='same', name=squeeze_base_name+'c')(X)\n",
    "    \n",
    "    X = Concatenate(name=\"concatenate_\"+str(stage))([X_11, X_33])\n",
    "    X = BatchNormalization(name=bn_base_name)(X)\n",
    "    \n",
    "    X = Activation(\"relu\", name=\"spectral\"+str(stage))(X)\n",
    "    \n",
    "    return X\n",
    "    pass"
   ]
  },
  {
   "cell_type": "code",
   "execution_count": 43,
   "metadata": {
    "scrolled": true
   },
   "outputs": [],
   "source": [
    "def deep_optimized_learning_model(input_shape, classes):\n",
    "    \n",
    "    X_input = Input(input_shape, name=\"input\")\n",
    "    \n",
    "    X = Conv2D(96, (1,1), strides=(2,2), name='conv1', padding=\"same\")(X_input)\n",
    "    \n",
    "    X = spectral_block(X, [16,96,32], 2)\n",
    "    X = spectral_block(X, [16,96,32], 3)\n",
    "    X = spectral_block(X, [32,192,64], 4)\n",
    "    \n",
    "    X = MaxPooling2D(pool_size=(2,2), strides=(2,2), padding=\"same\", name=\"maxpool4\")(X)\n",
    "    \n",
    "    X = spectral_block(X, [32,192,64], 5)\n",
    "    X = spectral_block(X, [48, 288, 96], 6)\n",
    "    X = spectral_block(X, [48, 288, 96], 7)\n",
    "    X = spectral_block(X, [64, 384, 128], 8)\n",
    "    \n",
    "    X = MaxPooling2D(pool_size=(2,2), strides=(2,2), padding=\"same\", name=\"maxpool8\")(X)\n",
    "    \n",
    "    X = spectral_block(X, [64,384,128], 9)\n",
    "    \n",
    "    X = Conv2D(10, kernel_size=(1,1), strides=(1,1), name=\"conv10\", padding='same')(X)\n",
    "    X = BatchNormalization(name=\"conv10_batchnormalisation\")(X)\n",
    "    X = Activation(\"relu\", name=\"conv10_activation\")(X)\n",
    "    \n",
    "    X = AveragePooling2D(pool_size=(8,8), strides=(1,1), name=\"avgpool10\")(X)\n",
    "    \n",
    "    X = Flatten(name=\"flatten10\")(X)\n",
    "\n",
    "    X = Activation(\"softmax\", name=\"output\")(X)\n",
    "    \n",
    "    model = Model(inputs=X_input, outputs=X, name=\"SpectrumNet\")\n",
    "    \n",
    "    return model"
   ]
  },
  {
   "cell_type": "code",
   "execution_count": 44,
   "metadata": {
    "scrolled": true
   },
   "outputs": [],
   "source": [
    "model = deep_optimized_learning_model(input_shape = (64,64,6), classes=num_classes)"
   ]
  },
  {
   "cell_type": "code",
   "execution_count": 45,
   "metadata": {
    "_kg_hide-output": false,
    "scrolled": true
   },
   "outputs": [
    {
     "name": "stdout",
     "output_type": "stream",
     "text": [
      "Model: \"SpectrumNet\"\n",
      "__________________________________________________________________________________________________\n",
      "Layer (type)                    Output Shape         Param #     Connected to                     \n",
      "==================================================================================================\n",
      "input (InputLayer)              [(None, 64, 64, 6)]  0                                            \n",
      "__________________________________________________________________________________________________\n",
      "conv1 (Conv2D)                  (None, 32, 32, 96)   672         input[0][0]                      \n",
      "__________________________________________________________________________________________________\n",
      "squeeze_2_brancha (Conv2D)      (None, 32, 32, 16)   1552        conv1[0][0]                      \n",
      "__________________________________________________________________________________________________\n",
      "squeeze_2_branchb (Conv2D)      (None, 32, 32, 96)   1632        squeeze_2_brancha[0][0]          \n",
      "__________________________________________________________________________________________________\n",
      "squeeze_2_branchc (Conv2D)      (None, 32, 32, 32)   4640        squeeze_2_brancha[0][0]          \n",
      "__________________________________________________________________________________________________\n",
      "concatenate_2 (Concatenate)     (None, 32, 32, 128)  0           squeeze_2_branchb[0][0]          \n",
      "                                                                 squeeze_2_branchc[0][0]          \n",
      "__________________________________________________________________________________________________\n",
      "bn_2_branch (BatchNormalization (None, 32, 32, 128)  512         concatenate_2[0][0]              \n",
      "__________________________________________________________________________________________________\n",
      "spectral2 (Activation)          (None, 32, 32, 128)  0           bn_2_branch[0][0]                \n",
      "__________________________________________________________________________________________________\n",
      "squeeze_3_brancha (Conv2D)      (None, 32, 32, 16)   2064        spectral2[0][0]                  \n",
      "__________________________________________________________________________________________________\n",
      "squeeze_3_branchb (Conv2D)      (None, 32, 32, 96)   1632        squeeze_3_brancha[0][0]          \n",
      "__________________________________________________________________________________________________\n",
      "squeeze_3_branchc (Conv2D)      (None, 32, 32, 32)   4640        squeeze_3_brancha[0][0]          \n",
      "__________________________________________________________________________________________________\n",
      "concatenate_3 (Concatenate)     (None, 32, 32, 128)  0           squeeze_3_branchb[0][0]          \n",
      "                                                                 squeeze_3_branchc[0][0]          \n",
      "__________________________________________________________________________________________________\n",
      "bn_3_branch (BatchNormalization (None, 32, 32, 128)  512         concatenate_3[0][0]              \n",
      "__________________________________________________________________________________________________\n",
      "spectral3 (Activation)          (None, 32, 32, 128)  0           bn_3_branch[0][0]                \n",
      "__________________________________________________________________________________________________\n",
      "squeeze_4_brancha (Conv2D)      (None, 32, 32, 32)   4128        spectral3[0][0]                  \n",
      "__________________________________________________________________________________________________\n",
      "squeeze_4_branchb (Conv2D)      (None, 32, 32, 192)  6336        squeeze_4_brancha[0][0]          \n",
      "__________________________________________________________________________________________________\n",
      "squeeze_4_branchc (Conv2D)      (None, 32, 32, 64)   18496       squeeze_4_brancha[0][0]          \n",
      "__________________________________________________________________________________________________\n",
      "concatenate_4 (Concatenate)     (None, 32, 32, 256)  0           squeeze_4_branchb[0][0]          \n",
      "                                                                 squeeze_4_branchc[0][0]          \n",
      "__________________________________________________________________________________________________\n",
      "bn_4_branch (BatchNormalization (None, 32, 32, 256)  1024        concatenate_4[0][0]              \n",
      "__________________________________________________________________________________________________\n",
      "spectral4 (Activation)          (None, 32, 32, 256)  0           bn_4_branch[0][0]                \n",
      "__________________________________________________________________________________________________\n",
      "maxpool4 (MaxPooling2D)         (None, 16, 16, 256)  0           spectral4[0][0]                  \n",
      "__________________________________________________________________________________________________\n",
      "squeeze_5_brancha (Conv2D)      (None, 16, 16, 32)   8224        maxpool4[0][0]                   \n",
      "__________________________________________________________________________________________________\n",
      "squeeze_5_branchb (Conv2D)      (None, 16, 16, 192)  6336        squeeze_5_brancha[0][0]          \n",
      "__________________________________________________________________________________________________\n",
      "squeeze_5_branchc (Conv2D)      (None, 16, 16, 64)   18496       squeeze_5_brancha[0][0]          \n",
      "__________________________________________________________________________________________________\n",
      "concatenate_5 (Concatenate)     (None, 16, 16, 256)  0           squeeze_5_branchb[0][0]          \n",
      "                                                                 squeeze_5_branchc[0][0]          \n",
      "__________________________________________________________________________________________________\n",
      "bn_5_branch (BatchNormalization (None, 16, 16, 256)  1024        concatenate_5[0][0]              \n",
      "__________________________________________________________________________________________________\n",
      "spectral5 (Activation)          (None, 16, 16, 256)  0           bn_5_branch[0][0]                \n",
      "__________________________________________________________________________________________________\n",
      "squeeze_6_brancha (Conv2D)      (None, 16, 16, 48)   12336       spectral5[0][0]                  \n",
      "__________________________________________________________________________________________________\n",
      "squeeze_6_branchb (Conv2D)      (None, 16, 16, 288)  14112       squeeze_6_brancha[0][0]          \n",
      "__________________________________________________________________________________________________\n",
      "squeeze_6_branchc (Conv2D)      (None, 16, 16, 96)   41568       squeeze_6_brancha[0][0]          \n",
      "__________________________________________________________________________________________________\n",
      "concatenate_6 (Concatenate)     (None, 16, 16, 384)  0           squeeze_6_branchb[0][0]          \n",
      "                                                                 squeeze_6_branchc[0][0]          \n",
      "__________________________________________________________________________________________________\n",
      "bn_6_branch (BatchNormalization (None, 16, 16, 384)  1536        concatenate_6[0][0]              \n",
      "__________________________________________________________________________________________________\n",
      "spectral6 (Activation)          (None, 16, 16, 384)  0           bn_6_branch[0][0]                \n",
      "__________________________________________________________________________________________________\n",
      "squeeze_7_brancha (Conv2D)      (None, 16, 16, 48)   18480       spectral6[0][0]                  \n",
      "__________________________________________________________________________________________________\n",
      "squeeze_7_branchb (Conv2D)      (None, 16, 16, 288)  14112       squeeze_7_brancha[0][0]          \n",
      "__________________________________________________________________________________________________\n",
      "squeeze_7_branchc (Conv2D)      (None, 16, 16, 96)   41568       squeeze_7_brancha[0][0]          \n",
      "__________________________________________________________________________________________________\n",
      "concatenate_7 (Concatenate)     (None, 16, 16, 384)  0           squeeze_7_branchb[0][0]          \n",
      "                                                                 squeeze_7_branchc[0][0]          \n",
      "__________________________________________________________________________________________________\n",
      "bn_7_branch (BatchNormalization (None, 16, 16, 384)  1536        concatenate_7[0][0]              \n",
      "__________________________________________________________________________________________________\n",
      "spectral7 (Activation)          (None, 16, 16, 384)  0           bn_7_branch[0][0]                \n",
      "__________________________________________________________________________________________________\n",
      "squeeze_8_brancha (Conv2D)      (None, 16, 16, 64)   24640       spectral7[0][0]                  \n",
      "__________________________________________________________________________________________________\n",
      "squeeze_8_branchb (Conv2D)      (None, 16, 16, 384)  24960       squeeze_8_brancha[0][0]          \n",
      "__________________________________________________________________________________________________\n",
      "squeeze_8_branchc (Conv2D)      (None, 16, 16, 128)  73856       squeeze_8_brancha[0][0]          \n",
      "__________________________________________________________________________________________________\n",
      "concatenate_8 (Concatenate)     (None, 16, 16, 512)  0           squeeze_8_branchb[0][0]          \n",
      "                                                                 squeeze_8_branchc[0][0]          \n",
      "__________________________________________________________________________________________________\n",
      "bn_8_branch (BatchNormalization (None, 16, 16, 512)  2048        concatenate_8[0][0]              \n",
      "__________________________________________________________________________________________________\n",
      "spectral8 (Activation)          (None, 16, 16, 512)  0           bn_8_branch[0][0]                \n",
      "__________________________________________________________________________________________________\n",
      "maxpool8 (MaxPooling2D)         (None, 8, 8, 512)    0           spectral8[0][0]                  \n",
      "__________________________________________________________________________________________________\n",
      "squeeze_9_brancha (Conv2D)      (None, 8, 8, 64)     32832       maxpool8[0][0]                   \n",
      "__________________________________________________________________________________________________\n",
      "squeeze_9_branchb (Conv2D)      (None, 8, 8, 384)    24960       squeeze_9_brancha[0][0]          \n",
      "__________________________________________________________________________________________________\n",
      "squeeze_9_branchc (Conv2D)      (None, 8, 8, 128)    73856       squeeze_9_brancha[0][0]          \n",
      "__________________________________________________________________________________________________\n",
      "concatenate_9 (Concatenate)     (None, 8, 8, 512)    0           squeeze_9_branchb[0][0]          \n",
      "                                                                 squeeze_9_branchc[0][0]          \n",
      "__________________________________________________________________________________________________\n",
      "bn_9_branch (BatchNormalization (None, 8, 8, 512)    2048        concatenate_9[0][0]              \n",
      "__________________________________________________________________________________________________\n",
      "spectral9 (Activation)          (None, 8, 8, 512)    0           bn_9_branch[0][0]                \n",
      "__________________________________________________________________________________________________\n",
      "conv10 (Conv2D)                 (None, 8, 8, 10)     5130        spectral9[0][0]                  \n",
      "__________________________________________________________________________________________________\n",
      "conv10_batchnormalisation (Batc (None, 8, 8, 10)     40          conv10[0][0]                     \n",
      "__________________________________________________________________________________________________\n",
      "conv10_activation (Activation)  (None, 8, 8, 10)     0           conv10_batchnormalisation[0][0]  \n",
      "__________________________________________________________________________________________________\n",
      "avgpool10 (AveragePooling2D)    (None, 1, 1, 10)     0           conv10_activation[0][0]          \n",
      "__________________________________________________________________________________________________\n",
      "flatten10 (Flatten)             (None, 10)           0           avgpool10[0][0]                  \n",
      "__________________________________________________________________________________________________\n",
      "output (Activation)             (None, 10)           0           flatten10[0][0]                  \n",
      "==================================================================================================\n",
      "Total params: 491,538\n",
      "Trainable params: 486,398\n",
      "Non-trainable params: 5,140\n",
      "__________________________________________________________________________________________________\n"
     ]
    }
   ],
   "source": [
    "model.summary()"
   ]
  },
  {
   "cell_type": "code",
   "execution_count": 46,
   "metadata": {
    "_kg_hide-output": true
   },
   "outputs": [
    {
     "name": "stdout",
     "output_type": "stream",
     "text": [
      "('You must install pydot (`pip install pydot`) and install graphviz (see instructions at https://graphviz.gitlab.io/download/) ', 'for plot_model/model_to_dot to work.')\n"
     ]
    }
   ],
   "source": [
    "plot_model(model, to_file=\"6bands_v5-4.png\",show_shapes=True,show_layer_names=True)\n"
   ]
  },
  {
   "cell_type": "code",
   "execution_count": 47,
   "metadata": {
    "scrolled": true
   },
   "outputs": [],
   "source": [
    "checkpoint = ModelCheckpoint(\"6bands_weights_v5-5_SC.h5py\", monitor='val_categorical_accuracy', verbose=1, save_best_only=True, mode='max')\n",
    "logs = TensorBoard(\"6bands-logs-SC\", histogram_freq=1)"
   ]
  },
  {
   "cell_type": "code",
   "execution_count": 48,
   "metadata": {
    "scrolled": true
   },
   "outputs": [],
   "source": [
    "def step_decay(epoch):\n",
    "    initial_lrate = 0.001\n",
    "    drop = 0.10\n",
    "    epochs_drop = 30.0\n",
    "    lrate = initial_lrate * math.pow(drop,  \n",
    "           math.floor((1+epoch)/epochs_drop))\n",
    "    return lrate"
   ]
  },
  {
   "cell_type": "code",
   "execution_count": 49,
   "metadata": {
    "scrolled": true
   },
   "outputs": [],
   "source": [
    "class LossHistory(Callback):\n",
    "    def on_train_begin(self, logs={}):\n",
    "        self.losses = []\n",
    "        self.lr = []\n",
    " \n",
    "    def on_epoch_end(self, batch, logs={}):\n",
    "        self.losses.append(logs.get('loss'))\n",
    "        self.lr.append(step_decay(len(self.losses)))"
   ]
  },
  {
   "cell_type": "code",
   "execution_count": 50,
   "metadata": {
    "scrolled": true
   },
   "outputs": [],
   "source": [
    "loss_history = LossHistory()"
   ]
  },
  {
   "cell_type": "code",
   "execution_count": 51,
   "metadata": {},
   "outputs": [],
   "source": [
    "lrate = LearningRateScheduler(step_decay)"
   ]
  },
  {
   "cell_type": "code",
   "execution_count": 52,
   "metadata": {},
   "outputs": [],
   "source": [
    "train_labels_encoded = to_categorical(train_labels,num_classes=10)"
   ]
  },
  {
   "cell_type": "code",
   "execution_count": 53,
   "metadata": {},
   "outputs": [],
   "source": [
    "classTotals = train_labels_encoded.sum(axis=0)"
   ]
  },
  {
   "cell_type": "code",
   "execution_count": 54,
   "metadata": {},
   "outputs": [],
   "source": [
    "classWeight = {}"
   ]
  },
  {
   "cell_type": "code",
   "execution_count": 55,
   "metadata": {},
   "outputs": [],
   "source": [
    "for i in range(len(classTotals)):\n",
    "    classWeight[i] = classTotals.max()/classTotals[i]\n",
    "    pass"
   ]
  },
  {
   "cell_type": "code",
   "execution_count": 56,
   "metadata": {
    "scrolled": true
   },
   "outputs": [
    {
     "data": {
      "text/plain": [
       "{0: 1.1985714,\n",
       " 1: 1.1985714,\n",
       " 2: 1.1985714,\n",
       " 3: 1.4382857,\n",
       " 4: 1.4382857,\n",
       " 5: 1.7978572,\n",
       " 6: 1.4382857,\n",
       " 7: 1.1985714,\n",
       " 8: 1.4382857,\n",
       " 9: 1.0}"
      ]
     },
     "execution_count": 56,
     "metadata": {},
     "output_type": "execute_result"
    }
   ],
   "source": [
    "classWeight"
   ]
  },
  {
   "cell_type": "code",
   "execution_count": 57,
   "metadata": {
    "scrolled": true
   },
   "outputs": [],
   "source": [
    "opt = SGD(lr=1e-3, momentum=0.9, nesterov=True)"
   ]
  },
  {
   "cell_type": "code",
   "execution_count": 58,
   "metadata": {
    "scrolled": true
   },
   "outputs": [],
   "source": [
    "model.compile(optimizer=opt, loss='categorical_crossentropy',metrics=['categorical_accuracy'])"
   ]
  },
  {
   "cell_type": "code",
   "execution_count": 59,
   "metadata": {},
   "outputs": [],
   "source": [
    "epochs = 30\n",
    "batchSize = 100"
   ]
  },
  {
   "cell_type": "code",
   "execution_count": 60,
   "metadata": {
    "_kg_hide-output": true,
    "scrolled": true
   },
   "outputs": [
    {
     "name": "stdout",
     "output_type": "stream",
     "text": [
      "Epoch 1/30\n",
      "193/193 [==============================] - 26s 129ms/step - loss: 2.4213 - categorical_accuracy: 0.4927 - val_loss: 2.5294 - val_categorical_accuracy: 0.1655\n",
      "\n",
      "Epoch 00001: val_categorical_accuracy improved from -inf to 0.16545, saving model to 6bands_weights_v5-5_SC.h5py\n",
      "INFO:tensorflow:Assets written to: 6bands_weights_v5-5_SC.h5py\\assets\n",
      "Epoch 2/30\n",
      "193/193 [==============================] - 35s 184ms/step - loss: 1.9944 - categorical_accuracy: 0.5907 - val_loss: 1.7009 - val_categorical_accuracy: 0.4218\n",
      "\n",
      "Epoch 00002: val_categorical_accuracy improved from 0.16545 to 0.42182, saving model to 6bands_weights_v5-5_SC.h5py\n",
      "INFO:tensorflow:Assets written to: 6bands_weights_v5-5_SC.h5py\\assets\n",
      "Epoch 3/30\n",
      "193/193 [==============================] - 36s 185ms/step - loss: 1.7330 - categorical_accuracy: 0.6534 - val_loss: 1.0109 - val_categorical_accuracy: 0.6964\n",
      "\n",
      "Epoch 00003: val_categorical_accuracy improved from 0.42182 to 0.69636, saving model to 6bands_weights_v5-5_SC.h5py\n",
      "INFO:tensorflow:Assets written to: 6bands_weights_v5-5_SC.h5py\\assets\n",
      "Epoch 4/30\n",
      "193/193 [==============================] - 36s 186ms/step - loss: 1.5659 - categorical_accuracy: 0.6870 - val_loss: 0.8336 - val_categorical_accuracy: 0.7745\n",
      "\n",
      "Epoch 00004: val_categorical_accuracy improved from 0.69636 to 0.77455, saving model to 6bands_weights_v5-5_SC.h5py\n",
      "INFO:tensorflow:Assets written to: 6bands_weights_v5-5_SC.h5py\\assets\n",
      "Epoch 5/30\n",
      "193/193 [==============================] - 36s 185ms/step - loss: 1.4085 - categorical_accuracy: 0.7119 - val_loss: 1.1572 - val_categorical_accuracy: 0.6382\n",
      "\n",
      "Epoch 00005: val_categorical_accuracy did not improve from 0.77455\n",
      "Epoch 6/30\n",
      "193/193 [==============================] - 36s 185ms/step - loss: 1.3723 - categorical_accuracy: 0.7187 - val_loss: 0.7332 - val_categorical_accuracy: 0.8073\n",
      "\n",
      "Epoch 00006: val_categorical_accuracy improved from 0.77455 to 0.80727, saving model to 6bands_weights_v5-5_SC.h5py\n",
      "INFO:tensorflow:Assets written to: 6bands_weights_v5-5_SC.h5py\\assets\n",
      "Epoch 7/30\n",
      "193/193 [==============================] - 35s 184ms/step - loss: 1.3103 - categorical_accuracy: 0.7238 - val_loss: 0.7914 - val_categorical_accuracy: 0.7582\n",
      "\n",
      "Epoch 00007: val_categorical_accuracy did not improve from 0.80727\n",
      "Epoch 8/30\n",
      "193/193 [==============================] - 35s 182ms/step - loss: 1.2328 - categorical_accuracy: 0.7404 - val_loss: 0.5052 - val_categorical_accuracy: 0.8727\n",
      "\n",
      "Epoch 00008: val_categorical_accuracy improved from 0.80727 to 0.87273, saving model to 6bands_weights_v5-5_SC.h5py\n",
      "INFO:tensorflow:Assets written to: 6bands_weights_v5-5_SC.h5py\\assets\n",
      "Epoch 9/30\n",
      "193/193 [==============================] - 36s 186ms/step - loss: 1.1551 - categorical_accuracy: 0.7575 - val_loss: 0.6390 - val_categorical_accuracy: 0.7982\n",
      "\n",
      "Epoch 00009: val_categorical_accuracy did not improve from 0.87273\n",
      "Epoch 10/30\n",
      "193/193 [==============================] - 36s 185ms/step - loss: 1.0874 - categorical_accuracy: 0.7699 - val_loss: 0.8329 - val_categorical_accuracy: 0.7304\n",
      "\n",
      "Epoch 00010: val_categorical_accuracy did not improve from 0.87273\n",
      "Epoch 11/30\n",
      "193/193 [==============================] - 24s 127ms/step - loss: 1.0959 - categorical_accuracy: 0.7540 - val_loss: 0.5635 - val_categorical_accuracy: 0.8109\n",
      "\n",
      "Epoch 00011: val_categorical_accuracy did not improve from 0.87273\n",
      "Epoch 12/30\n",
      "193/193 [==============================] - 25s 127ms/step - loss: 1.0724 - categorical_accuracy: 0.7668 - val_loss: 0.7077 - val_categorical_accuracy: 0.7836\n",
      "\n",
      "Epoch 00012: val_categorical_accuracy did not improve from 0.87273\n",
      "Epoch 13/30\n",
      "193/193 [==============================] - 24s 125ms/step - loss: 1.0042 - categorical_accuracy: 0.7860 - val_loss: 0.5095 - val_categorical_accuracy: 0.8564\n",
      "\n",
      "Epoch 00013: val_categorical_accuracy did not improve from 0.87273\n",
      "Epoch 14/30\n",
      "193/193 [==============================] - 24s 126ms/step - loss: 0.9631 - categorical_accuracy: 0.7839 - val_loss: 0.7158 - val_categorical_accuracy: 0.7818\n",
      "\n",
      "Epoch 00014: val_categorical_accuracy did not improve from 0.87273\n",
      "Epoch 15/30\n",
      "193/193 [==============================] - 25s 128ms/step - loss: 0.8950 - categorical_accuracy: 0.8026 - val_loss: 0.6677 - val_categorical_accuracy: 0.7745\n",
      "\n",
      "Epoch 00015: val_categorical_accuracy did not improve from 0.87273\n",
      "Epoch 16/30\n",
      "193/193 [==============================] - 24s 126ms/step - loss: 0.9349 - categorical_accuracy: 0.8021 - val_loss: 0.5858 - val_categorical_accuracy: 0.8236\n",
      "\n",
      "Epoch 00016: val_categorical_accuracy did not improve from 0.87273\n",
      "Epoch 17/30\n",
      "193/193 [==============================] - 25s 128ms/step - loss: 0.9405 - categorical_accuracy: 0.7829 - val_loss: 0.4815 - val_categorical_accuracy: 0.8527\n",
      "\n",
      "Epoch 00017: val_categorical_accuracy did not improve from 0.87273\n",
      "Epoch 18/30\n",
      "193/193 [==============================] - 24s 126ms/step - loss: 0.8901 - categorical_accuracy: 0.8031 - val_loss: 0.4694 - val_categorical_accuracy: 0.8473\n",
      "\n",
      "Epoch 00018: val_categorical_accuracy did not improve from 0.87273\n",
      "Epoch 19/30\n",
      "193/193 [==============================] - 24s 126ms/step - loss: 0.8375 - categorical_accuracy: 0.8135 - val_loss: 0.5332 - val_categorical_accuracy: 0.8436\n",
      "\n",
      "Epoch 00019: val_categorical_accuracy did not improve from 0.87273\n",
      "Epoch 20/30\n",
      "193/193 [==============================] - 25s 127ms/step - loss: 0.8080 - categorical_accuracy: 0.8238 - val_loss: 0.5574 - val_categorical_accuracy: 0.8087\n",
      "\n",
      "Epoch 00020: val_categorical_accuracy did not improve from 0.87273\n",
      "Epoch 21/30\n",
      "193/193 [==============================] - 24s 127ms/step - loss: 0.8428 - categorical_accuracy: 0.8121 - val_loss: 0.5899 - val_categorical_accuracy: 0.8182\n",
      "\n",
      "Epoch 00021: val_categorical_accuracy did not improve from 0.87273\n",
      "Epoch 22/30\n",
      "193/193 [==============================] - 25s 129ms/step - loss: 0.8215 - categorical_accuracy: 0.8197 - val_loss: 0.5966 - val_categorical_accuracy: 0.8091\n",
      "\n",
      "Epoch 00022: val_categorical_accuracy did not improve from 0.87273\n",
      "Epoch 23/30\n",
      "193/193 [==============================] - 25s 128ms/step - loss: 0.7946 - categorical_accuracy: 0.8254 - val_loss: 0.3717 - val_categorical_accuracy: 0.8836\n",
      "\n",
      "Epoch 00023: val_categorical_accuracy improved from 0.87273 to 0.88364, saving model to 6bands_weights_v5-5_SC.h5py\n",
      "INFO:tensorflow:Assets written to: 6bands_weights_v5-5_SC.h5py\\assets\n",
      "Epoch 24/30\n",
      "193/193 [==============================] - 24s 126ms/step - loss: 0.7476 - categorical_accuracy: 0.8332 - val_loss: 0.5425 - val_categorical_accuracy: 0.8364\n",
      "\n",
      "Epoch 00024: val_categorical_accuracy did not improve from 0.88364\n",
      "Epoch 25/30\n",
      "193/193 [==============================] - 25s 127ms/step - loss: 0.7005 - categorical_accuracy: 0.8503 - val_loss: 0.6740 - val_categorical_accuracy: 0.7545\n",
      "\n",
      "Epoch 00025: val_categorical_accuracy did not improve from 0.88364\n",
      "Epoch 26/30\n",
      "193/193 [==============================] - 24s 125ms/step - loss: 0.7467 - categorical_accuracy: 0.8440 - val_loss: 0.4579 - val_categorical_accuracy: 0.8418\n",
      "\n",
      "Epoch 00026: val_categorical_accuracy did not improve from 0.88364\n",
      "Epoch 27/30\n",
      "193/193 [==============================] - 24s 125ms/step - loss: 0.7674 - categorical_accuracy: 0.8249 - val_loss: 0.3449 - val_categorical_accuracy: 0.9000\n",
      "\n",
      "Epoch 00027: val_categorical_accuracy improved from 0.88364 to 0.90000, saving model to 6bands_weights_v5-5_SC.h5py\n",
      "INFO:tensorflow:Assets written to: 6bands_weights_v5-5_SC.h5py\\assets\n",
      "Epoch 28/30\n",
      "193/193 [==============================] - 25s 128ms/step - loss: 0.7216 - categorical_accuracy: 0.8472 - val_loss: 0.3939 - val_categorical_accuracy: 0.8655\n",
      "\n",
      "Epoch 00028: val_categorical_accuracy did not improve from 0.90000\n",
      "Epoch 29/30\n",
      "193/193 [==============================] - 25s 127ms/step - loss: 0.6688 - categorical_accuracy: 0.8580 - val_loss: 0.4766 - val_categorical_accuracy: 0.8618\n",
      "\n",
      "Epoch 00029: val_categorical_accuracy did not improve from 0.90000\n",
      "Epoch 30/30\n",
      "193/193 [==============================] - 24s 127ms/step - loss: 0.6360 - categorical_accuracy: 0.8642 - val_loss: 0.2261 - val_categorical_accuracy: 0.9235\n",
      "\n",
      "Epoch 00030: val_categorical_accuracy improved from 0.90000 to 0.92350, saving model to 6bands_weights_v5-5_SC.h5py\n",
      "INFO:tensorflow:Assets written to: 6bands_weights_v5-5_SC.h5py\\assets\n"
     ]
    }
   ],
   "source": [
    "history = model.fit(train_generator,\n",
    "                   steps_per_epoch = num_train_samples//batchSize,\n",
    "                   epochs = epochs,\n",
    "                   verbose = 1,\n",
    "                   validation_data = val_generator,\n",
    "                   validation_steps = num_val_samples//batchSize,\n",
    "                   callbacks = [checkpoint, lrate, loss_history],\n",
    "                   class_weight = classWeight\n",
    "                   )"
   ]
  },
  {
   "cell_type": "code",
   "execution_count": 61,
   "metadata": {},
   "outputs": [],
   "source": [
    "def plot_learning_rate(loss_history):\n",
    "    \n",
    "    plt.style.use(\"ggplot\")\n",
    "    \n",
    "    plt.plot(np.arange(0,len(loss_history.lr)), loss_history.lr)\n",
    "    plt.show();\n",
    "    pass"
   ]
  },
  {
   "cell_type": "code",
   "execution_count": 62,
   "metadata": {},
   "outputs": [],
   "source": [
    "def show_final_history(history):\n",
    "    \n",
    "    plt.style.use(\"ggplot\")\n",
    "    fig, ax = plt.subplots(1,2,figsize=(15,5))\n",
    "    \n",
    "    ax[0].set_title('Loss')\n",
    "    ax[1].set_title('Accuracy')\n",
    "    \n",
    "    ax[0].plot(history.history['loss'], 'r-', label='Training Loss')\n",
    "    ax[0].plot(history.history['val_loss'], 'g-', label='Validation Loss')\n",
    "    ax[1].plot(history.history['categorical_accuracy'], 'r-', label='Training Accuracy')\n",
    "    ax[1].plot(history.history['val_categorical_accuracy'], 'g-', label='Validation Accuracy')\n",
    "    \n",
    "    ax[0].legend(loc='upper right')\n",
    "    ax[1].legend(loc='lower right')\n",
    "    \n",
    "    plt.show();\n",
    "    pass"
   ]
  },
  {
   "cell_type": "code",
   "execution_count": 63,
   "metadata": {
    "scrolled": true
   },
   "outputs": [
    {
     "data": {
      "image/png": "[encoded data removed]",
      "text/plain": [
       "<Figure size 1080x360 with 2 Axes>"
      ]
     },
     "metadata": {},
     "output_type": "display_data"
    }
   ],
   "source": [
    "show_final_history(history)"
   ]
  },
  {
   "cell_type": "code",
   "execution_count": 64,
   "metadata": {
    "scrolled": true
   },
   "outputs": [
    {
     "data": {
      "image/png": "[encoded data removed]",
      "text/plain": [
       "<Figure size 432x288 with 1 Axes>"
      ]
     },
     "metadata": {},
     "output_type": "display_data"
    }
   ],
   "source": [
    "plot_learning_rate(loss_history)"
   ]
  },
  {
   "cell_type": "code",
   "execution_count": 65,
   "metadata": {
    "scrolled": true
   },
   "outputs": [],
   "source": [
    "def obtain_tif_images(csv_file):\n",
    "    \n",
    "    df = pd.read_csv(csv_file)\n",
    "    num_samples = df.shape[0]\n",
    "    \n",
    "    X, y = [], []\n",
    "    \n",
    "    for i in tqdm(range(num_samples)):\n",
    "        \n",
    "        img_name = df.loc[i,'Filename']\n",
    "        label = df.loc[i,'Label']\n",
    "\n",
    "        src = rasterio.open(os.path.join(basePath,img_name))\n",
    "        arr_3, arr_4, arr_8 = src.read(bands['3']), src.read(bands['4']), src.read(bands['8']) \n",
    "        arr_6, arr_7 = src.read(bands['6']), src.read(bands['7'])\n",
    "        arr_11 = src.read(bands['11'])\n",
    "\n",
    "        arr_3 = np.array(arr_3, dtype=np.float32)\n",
    "        arr_4 = np.array(arr_4, dtype=np.float32)\n",
    "        arr_6, arr_7 = np.array(arr_6, dtype=np.float32), np.array(arr_7, dtype=np.float32)\n",
    "        arr_8 = np.array(arr_8, dtype=np.float32)\n",
    "        arr_11 = np.array(arr_11, dtype=np.float32)\n",
    "\n",
    "        arr_3 = Normalise(arr_3)\n",
    "        arr_4 = Normalise(arr_4)\n",
    "        arr_6, arr_7 = Normalise(arr_6), Normalise(arr_7)\n",
    "        arr_8 = Normalise(arr_8)\n",
    "        arr_11 = Normalise(arr_11)\n",
    "\n",
    "        bands_10_20 = np.dstack((arr_3, arr_4, arr_6, arr_7, arr_8, arr_11))\n",
    "\n",
    "        X.append(bands_10_20)\n",
    "        y.append(label)\n",
    "        \n",
    "        pass\n",
    "    \n",
    "    X = np.array(X)\n",
    "    y = np.array(y)\n",
    "    \n",
    "    return X,y\n",
    "    pass"
   ]
  },
  {
   "cell_type": "code",
   "execution_count": 66,
   "metadata": {},
   "outputs": [
    {
     "name": "stderr",
     "output_type": "stream",
     "text": [
      "100%|█████████████████████████████████████████████████████████████████████████████| 2759/2759 [00:26<00:00, 105.66it/s]\n"
     ]
    }
   ],
   "source": [
    "test_tifs, test_labels = obtain_tif_images(csv_file=\"Dataset/test.csv\")"
   ]
  },
  {
   "cell_type": "code",
   "execution_count": 67,
   "metadata": {},
   "outputs": [],
   "source": [
    "test_labels_encoded = to_categorical(test_labels, num_classes = len(class_names))"
   ]
  },
  {
   "cell_type": "code",
   "execution_count": 68,
   "metadata": {},
   "outputs": [
    {
     "data": {
      "text/plain": [
       "((2759, 64, 64, 6), (2759,), (2759, 10))"
      ]
     },
     "execution_count": 68,
     "metadata": {},
     "output_type": "execute_result"
    }
   ],
   "source": [
    "test_tifs.shape, test_labels.shape, test_labels_encoded.shape"
   ]
  },
  {
   "cell_type": "code",
   "execution_count": 69,
   "metadata": {
    "_kg_hide-output": true,
    "scrolled": true
   },
   "outputs": [
    {
     "data": {
      "text/plain": [
       "(2759,)"
      ]
     },
     "execution_count": 69,
     "metadata": {},
     "output_type": "execute_result"
    }
   ],
   "source": [
    "test_pred = model.predict(test_tifs)\n",
    "test_pred = np.argmax(test_pred, axis=1)\n",
    "test_pred.shape"
   ]
  },
  {
   "cell_type": "code",
   "execution_count": 70,
   "metadata": {},
   "outputs": [],
   "source": [
    "def plot_confusion_matrix(cm, classes, title='Confusion Matrix', cmap=plt.cm.Blues):\n",
    "    \n",
    "    cm = cm.astype('float')/cm.sum(axis=1)[:,np.newaxis]\n",
    "    plt.figure(figsize=(10,10))\n",
    "    plt.imshow(cm, interpolation='nearest', cmap=cmap)\n",
    "    plt.title(title)\n",
    "    plt.colorbar();\n",
    "    \n",
    "    tick_marks = np.arange(len(classes))\n",
    "    plt.xticks(tick_marks, classes, rotation=90)\n",
    "    plt.yticks(tick_marks, classes)\n",
    "    \n",
    "    fmt = '.2f'\n",
    "    thresh = cm.max()/2.0\n",
    "    \n",
    "    for i,j in itertools.product(range(cm.shape[0]), range(cm.shape[1])):\n",
    "        \n",
    "        plt.text(j,i, format(cm[i,j], fmt),\n",
    "                horizontalalignment = 'center',\n",
    "                color = \"white\" if cm[i,j] > thresh else \"black\")\n",
    "        pass\n",
    "    \n",
    "    plt.ylabel(\"True Label\")\n",
    "    plt.xlabel(\"Predicted Label\")\n",
    "    plt.grid(False);\n",
    "    pass"
   ]
  },
  {
   "cell_type": "code",
   "execution_count": 71,
   "metadata": {},
   "outputs": [
    {
     "data": {
      "image/png": "[encoded data removed]",
      "text/plain": [
       "<Figure size 720x720 with 2 Axes>"
      ]
     },
     "metadata": {},
     "output_type": "display_data"
    }
   ],
   "source": [
    "cnf_mat = confusion_matrix(test_labels, test_pred)\n",
    "\n",
    "plot_confusion_matrix(cnf_mat, classes=class_names, title=\"6 Bands Confusion Matrix - V5-5 - SC\")\n",
    "plt.grid(False);"
   ]
  },
  {
   "cell_type": "code",
   "execution_count": 72,
   "metadata": {
    "scrolled": true
   },
   "outputs": [
    {
     "name": "stdout",
     "output_type": "stream",
     "text": [
      "Class name: AnnualCrop, F1 score: 0.935\n",
      "Class name: Forest, F1 score: 0.987\n",
      "Class name: HerbaceousVegetation, F1 score: 0.879\n",
      "Class name: Highway, F1 score: 0.898\n",
      "Class name: Industrial, F1 score: 0.970\n",
      "Class name: Pasture, F1 score: 0.933\n",
      "Class name: PermanentCrop, F1 score: 0.843\n",
      "Class name: Residential, F1 score: 0.988\n",
      "Class name: River, F1 score: 0.947\n",
      "Class name: SeaLake, F1 score: 0.987\n"
     ]
    }
   ],
   "source": [
    "for f1,class_name in zip(f1_score(test_labels, test_pred, average=None), class_names):\n",
    "    print(\"Class name: {}, F1 score: {:.3f}\".format(class_name, f1))\n",
    "    pass"
   ]
  },
  {
   "cell_type": "code",
   "execution_count": 73,
   "metadata": {
    "scrolled": true
   },
   "outputs": [
    {
     "name": "stdout",
     "output_type": "stream",
     "text": [
      "INFO:tensorflow:Assets written to: 6bands_v5-5_SC.h5py\\assets\n"
     ]
    }
   ],
   "source": [
    "model.save(\"6bands_v5-5_SC.h5py\")"
   ]
  },
  {
   "cell_type": "code",
   "execution_count": 74,
   "metadata": {
    "_kg_hide-output": true,
    "scrolled": true
   },
   "outputs": [
    {
     "name": "stdout",
     "output_type": "stream",
     "text": [
      "Model: \"SpectrumNet\"\n",
      "__________________________________________________________________________________________________\n",
      "Layer (type)                    Output Shape         Param #     Connected to                     \n",
      "==================================================================================================\n",
      "input (InputLayer)              [(None, 64, 64, 6)]  0                                            \n",
      "__________________________________________________________________________________________________\n",
      "conv1 (Conv2D)                  (None, 32, 32, 96)   672         input[0][0]                      \n",
      "__________________________________________________________________________________________________\n",
      "squeeze_2_brancha (Conv2D)      (None, 32, 32, 16)   1552        conv1[0][0]                      \n",
      "__________________________________________________________________________________________________\n",
      "squeeze_2_branchb (Conv2D)      (None, 32, 32, 96)   1632        squeeze_2_brancha[0][0]          \n",
      "__________________________________________________________________________________________________\n",
      "squeeze_2_branchc (Conv2D)      (None, 32, 32, 32)   4640        squeeze_2_brancha[0][0]          \n",
      "__________________________________________________________________________________________________\n",
      "concatenate_2 (Concatenate)     (None, 32, 32, 128)  0           squeeze_2_branchb[0][0]          \n",
      "                                                                 squeeze_2_branchc[0][0]          \n",
      "__________________________________________________________________________________________________\n",
      "bn_2_branch (BatchNormalization (None, 32, 32, 128)  512         concatenate_2[0][0]              \n",
      "__________________________________________________________________________________________________\n",
      "spectral2 (Activation)          (None, 32, 32, 128)  0           bn_2_branch[0][0]                \n",
      "__________________________________________________________________________________________________\n",
      "squeeze_3_brancha (Conv2D)      (None, 32, 32, 16)   2064        spectral2[0][0]                  \n",
      "__________________________________________________________________________________________________\n",
      "squeeze_3_branchb (Conv2D)      (None, 32, 32, 96)   1632        squeeze_3_brancha[0][0]          \n",
      "__________________________________________________________________________________________________\n",
      "squeeze_3_branchc (Conv2D)      (None, 32, 32, 32)   4640        squeeze_3_brancha[0][0]          \n",
      "__________________________________________________________________________________________________\n",
      "concatenate_3 (Concatenate)     (None, 32, 32, 128)  0           squeeze_3_branchb[0][0]          \n",
      "                                                                 squeeze_3_branchc[0][0]          \n",
      "__________________________________________________________________________________________________\n",
      "bn_3_branch (BatchNormalization (None, 32, 32, 128)  512         concatenate_3[0][0]              \n",
      "__________________________________________________________________________________________________\n",
      "spectral3 (Activation)          (None, 32, 32, 128)  0           bn_3_branch[0][0]                \n",
      "__________________________________________________________________________________________________\n",
      "squeeze_4_brancha (Conv2D)      (None, 32, 32, 32)   4128        spectral3[0][0]                  \n",
      "__________________________________________________________________________________________________\n",
      "squeeze_4_branchb (Conv2D)      (None, 32, 32, 192)  6336        squeeze_4_brancha[0][0]          \n",
      "__________________________________________________________________________________________________\n",
      "squeeze_4_branchc (Conv2D)      (None, 32, 32, 64)   18496       squeeze_4_brancha[0][0]          \n",
      "__________________________________________________________________________________________________\n",
      "concatenate_4 (Concatenate)     (None, 32, 32, 256)  0           squeeze_4_branchb[0][0]          \n",
      "                                                                 squeeze_4_branchc[0][0]          \n",
      "__________________________________________________________________________________________________\n",
      "bn_4_branch (BatchNormalization (None, 32, 32, 256)  1024        concatenate_4[0][0]              \n",
      "__________________________________________________________________________________________________\n",
      "spectral4 (Activation)          (None, 32, 32, 256)  0           bn_4_branch[0][0]                \n",
      "__________________________________________________________________________________________________\n",
      "maxpool4 (MaxPooling2D)         (None, 16, 16, 256)  0           spectral4[0][0]                  \n",
      "__________________________________________________________________________________________________\n",
      "squeeze_5_brancha (Conv2D)      (None, 16, 16, 32)   8224        maxpool4[0][0]                   \n",
      "__________________________________________________________________________________________________\n",
      "squeeze_5_branchb (Conv2D)      (None, 16, 16, 192)  6336        squeeze_5_brancha[0][0]          \n",
      "__________________________________________________________________________________________________\n",
      "squeeze_5_branchc (Conv2D)      (None, 16, 16, 64)   18496       squeeze_5_brancha[0][0]          \n",
      "__________________________________________________________________________________________________\n",
      "concatenate_5 (Concatenate)     (None, 16, 16, 256)  0           squeeze_5_branchb[0][0]          \n",
      "                                                                 squeeze_5_branchc[0][0]          \n",
      "__________________________________________________________________________________________________\n",
      "bn_5_branch (BatchNormalization (None, 16, 16, 256)  1024        concatenate_5[0][0]              \n",
      "__________________________________________________________________________________________________\n",
      "spectral5 (Activation)          (None, 16, 16, 256)  0           bn_5_branch[0][0]                \n",
      "__________________________________________________________________________________________________\n",
      "squeeze_6_brancha (Conv2D)      (None, 16, 16, 48)   12336       spectral5[0][0]                  \n",
      "__________________________________________________________________________________________________\n",
      "squeeze_6_branchb (Conv2D)      (None, 16, 16, 288)  14112       squeeze_6_brancha[0][0]          \n",
      "__________________________________________________________________________________________________\n",
      "squeeze_6_branchc (Conv2D)      (None, 16, 16, 96)   41568       squeeze_6_brancha[0][0]          \n",
      "__________________________________________________________________________________________________\n",
      "concatenate_6 (Concatenate)     (None, 16, 16, 384)  0           squeeze_6_branchb[0][0]          \n",
      "                                                                 squeeze_6_branchc[0][0]          \n",
      "__________________________________________________________________________________________________\n",
      "bn_6_branch (BatchNormalization (None, 16, 16, 384)  1536        concatenate_6[0][0]              \n",
      "__________________________________________________________________________________________________\n",
      "spectral6 (Activation)          (None, 16, 16, 384)  0           bn_6_branch[0][0]                \n",
      "__________________________________________________________________________________________________\n",
      "squeeze_7_brancha (Conv2D)      (None, 16, 16, 48)   18480       spectral6[0][0]                  \n",
      "__________________________________________________________________________________________________\n",
      "squeeze_7_branchb (Conv2D)      (None, 16, 16, 288)  14112       squeeze_7_brancha[0][0]          \n",
      "__________________________________________________________________________________________________\n",
      "squeeze_7_branchc (Conv2D)      (None, 16, 16, 96)   41568       squeeze_7_brancha[0][0]          \n",
      "__________________________________________________________________________________________________\n",
      "concatenate_7 (Concatenate)     (None, 16, 16, 384)  0           squeeze_7_branchb[0][0]          \n",
      "                                                                 squeeze_7_branchc[0][0]          \n",
      "__________________________________________________________________________________________________\n",
      "bn_7_branch (BatchNormalization (None, 16, 16, 384)  1536        concatenate_7[0][0]              \n",
      "__________________________________________________________________________________________________\n",
      "spectral7 (Activation)          (None, 16, 16, 384)  0           bn_7_branch[0][0]                \n",
      "__________________________________________________________________________________________________\n",
      "squeeze_8_brancha (Conv2D)      (None, 16, 16, 64)   24640       spectral7[0][0]                  \n",
      "__________________________________________________________________________________________________\n",
      "squeeze_8_branchb (Conv2D)      (None, 16, 16, 384)  24960       squeeze_8_brancha[0][0]          \n",
      "__________________________________________________________________________________________________\n",
      "squeeze_8_branchc (Conv2D)      (None, 16, 16, 128)  73856       squeeze_8_brancha[0][0]          \n",
      "__________________________________________________________________________________________________\n",
      "concatenate_8 (Concatenate)     (None, 16, 16, 512)  0           squeeze_8_branchb[0][0]          \n",
      "                                                                 squeeze_8_branchc[0][0]          \n",
      "__________________________________________________________________________________________________\n",
      "bn_8_branch (BatchNormalization (None, 16, 16, 512)  2048        concatenate_8[0][0]              \n",
      "__________________________________________________________________________________________________\n",
      "spectral8 (Activation)          (None, 16, 16, 512)  0           bn_8_branch[0][0]                \n",
      "__________________________________________________________________________________________________\n",
      "maxpool8 (MaxPooling2D)         (None, 8, 8, 512)    0           spectral8[0][0]                  \n",
      "__________________________________________________________________________________________________\n",
      "squeeze_9_brancha (Conv2D)      (None, 8, 8, 64)     32832       maxpool8[0][0]                   \n",
      "__________________________________________________________________________________________________\n",
      "squeeze_9_branchb (Conv2D)      (None, 8, 8, 384)    24960       squeeze_9_brancha[0][0]          \n",
      "__________________________________________________________________________________________________\n",
      "squeeze_9_branchc (Conv2D)      (None, 8, 8, 128)    73856       squeeze_9_brancha[0][0]          \n",
      "__________________________________________________________________________________________________\n",
      "concatenate_9 (Concatenate)     (None, 8, 8, 512)    0           squeeze_9_branchb[0][0]          \n",
      "                                                                 squeeze_9_branchc[0][0]          \n",
      "__________________________________________________________________________________________________\n",
      "bn_9_branch (BatchNormalization (None, 8, 8, 512)    2048        concatenate_9[0][0]              \n",
      "__________________________________________________________________________________________________\n",
      "spectral9 (Activation)          (None, 8, 8, 512)    0           bn_9_branch[0][0]                \n",
      "__________________________________________________________________________________________________\n",
      "conv10 (Conv2D)                 (None, 8, 8, 10)     5130        spectral9[0][0]                  \n",
      "__________________________________________________________________________________________________\n",
      "conv10_batchnormalisation (Batc (None, 8, 8, 10)     40          conv10[0][0]                     \n",
      "__________________________________________________________________________________________________\n",
      "conv10_activation (Activation)  (None, 8, 8, 10)     0           conv10_batchnormalisation[0][0]  \n",
      "__________________________________________________________________________________________________\n",
      "avgpool10 (AveragePooling2D)    (None, 1, 1, 10)     0           conv10_activation[0][0]          \n",
      "__________________________________________________________________________________________________\n",
      "flatten10 (Flatten)             (None, 10)           0           avgpool10[0][0]                  \n",
      "__________________________________________________________________________________________________\n",
      "output (Activation)             (None, 10)           0           flatten10[0][0]                  \n",
      "==================================================================================================\n",
      "Total params: 491,538\n",
      "Trainable params: 486,398\n",
      "Non-trainable params: 5,140\n",
      "__________________________________________________________________________________________________\n"
     ]
    }
   ],
   "source": [
    "model_test = load_model(\"./6bands_v5-5_SC.h5py\")\n",
    "\n",
    "model_test.summary()"
   ]
  },
  {
   "cell_type": "code",
   "execution_count": 75,
   "metadata": {
    "scrolled": true
   },
   "outputs": [
    {
     "data": {
      "text/plain": [
       "<tensorflow.python.training.tracking.util.CheckpointLoadStatus at 0x2dfdcc537f0>"
      ]
     },
     "execution_count": 75,
     "metadata": {},
     "output_type": "execute_result"
    }
   ],
   "source": [
    "model_test.load_weights(\"./6bands_weights_v5-5_SC.h5py\")"
   ]
  },
  {
   "cell_type": "code",
   "execution_count": 76,
   "metadata": {
    "scrolled": true
   },
   "outputs": [
    {
     "data": {
      "text/plain": [
       "(2759,)"
      ]
     },
     "execution_count": 76,
     "metadata": {},
     "output_type": "execute_result"
    }
   ],
   "source": [
    "test_pred_2 = model_test.predict(test_tifs)\n",
    "test_pred_2 = np.argmax(test_pred_2, axis=1)\n",
    "test_pred_2.shape"
   ]
  },
  {
   "cell_type": "code",
   "execution_count": 77,
   "metadata": {
    "scrolled": true
   },
   "outputs": [
    {
     "name": "stdout",
     "output_type": "stream",
     "text": [
      "Class name: AnnualCrop, F1 score: 0.935\n",
      "Class name: Forest, F1 score: 0.987\n",
      "Class name: HerbaceousVegetation, F1 score: 0.879\n",
      "Class name: Highway, F1 score: 0.898\n",
      "Class name: Industrial, F1 score: 0.970\n",
      "Class name: Pasture, F1 score: 0.933\n",
      "Class name: PermanentCrop, F1 score: 0.843\n",
      "Class name: Residential, F1 score: 0.988\n",
      "Class name: River, F1 score: 0.947\n",
      "Class name: SeaLake, F1 score: 0.987\n"
     ]
    }
   ],
   "source": [
    "for f1,class_name in zip(f1_score(test_labels, test_pred_2, average=None), class_names):\n",
    "    print(\"Class name: {}, F1 score: {:.3f}\".format(class_name, f1))\n",
    "    pass"
   ]
  },
  {
   "cell_type": "code",
   "execution_count": 78,
   "metadata": {},
   "outputs": [
    {
     "data": {
      "image/png": "[encoded data removed]",
      "text/plain": [
       "<Figure size 720x720 with 2 Axes>"
      ]
     },
     "metadata": {},
     "output_type": "display_data"
    }
   ],
   "source": [
    "cnf_mat = confusion_matrix(test_labels, test_pred_2)\n",
    "\n",
    "plot_confusion_matrix(cnf_mat, classes=class_names, title=\"Testing Model V5-5 CNF-MAT\")\n",
    "plt.grid(False)"
   ]
  },
  {
   "cell_type": "code",
   "execution_count": 79,
   "metadata": {
    "scrolled": true
   },
   "outputs": [
    {
     "name": "stderr",
     "output_type": "stream",
     "text": [
      "100%|█████████████████████████████████████████████████████████████████████████████| 5519/5519 [00:23<00:00, 233.22it/s]\n"
     ]
    },
    {
     "data": {
      "text/plain": [
       "((5519, 64, 64, 6), (5519,), (5519, 10))"
      ]
     },
     "execution_count": 79,
     "metadata": {},
     "output_type": "execute_result"
    }
   ],
   "source": [
    "val_tifs, val_labels = obtain_tif_images(csv_file=\"Dataset/validation.csv\")\n",
    "\n",
    "val_labels_encoded = to_categorical(val_labels, num_classes = len(class_names))\n",
    "\n",
    "val_tifs.shape, val_labels.shape, val_labels_encoded.shape"
   ]
  },
  {
   "cell_type": "code",
   "execution_count": 80,
   "metadata": {
    "scrolled": true
   },
   "outputs": [
    {
     "data": {
      "text/plain": [
       "(5519,)"
      ]
     },
     "execution_count": 80,
     "metadata": {},
     "output_type": "execute_result"
    }
   ],
   "source": [
    "val_pred = model_test.predict(val_tifs)\n",
    "val_pred = np.argmax(val_pred, axis=1)\n",
    "val_pred.shape"
   ]
  },
  {
   "cell_type": "code",
   "execution_count": 81,
   "metadata": {
    "scrolled": true
   },
   "outputs": [
    {
     "name": "stdout",
     "output_type": "stream",
     "text": [
      "Class name: AnnualCrop, F1 score: 0.919\n",
      "Class name: Forest, F1 score: 0.983\n",
      "Class name: HerbaceousVegetation, F1 score: 0.885\n",
      "Class name: Highway, F1 score: 0.878\n",
      "Class name: Industrial, F1 score: 0.951\n",
      "Class name: Pasture, F1 score: 0.934\n",
      "Class name: PermanentCrop, F1 score: 0.841\n",
      "Class name: Residential, F1 score: 0.967\n",
      "Class name: River, F1 score: 0.953\n",
      "Class name: SeaLake, F1 score: 0.988\n"
     ]
    }
   ],
   "source": [
    "for f1,class_name in zip(f1_score(val_labels, val_pred, average=None), class_names):\n",
    "    print(\"Class name: {}, F1 score: {:.3f}\".format(class_name, f1))\n",
    "    pass"
   ]
  },
  {
   "cell_type": "code",
   "execution_count": 82,
   "metadata": {},
   "outputs": [
    {
     "data": {
      "image/png": "[encoded data removed]",
      "text/plain": [
       "<Figure size 720x720 with 2 Axes>"
      ]
     },
     "metadata": {},
     "output_type": "display_data"
    }
   ],
   "source": [
    "cnf_mat = confusion_matrix(val_labels, val_pred)\n",
    "\n",
    "plot_confusion_matrix(cnf_mat, classes=class_names,title=\"Validation Model V5-5 CNF-MAT\")\n",
    "plt.grid(False)"
   ]
  }
 ],
 "metadata": {
  "kernelspec": {
   "display_name": "Python 3",
   "language": "python",
   "name": "python3"
  },
  "language_info": {
   "codemirror_mode": {
    "name": "ipython",
    "version": 3
   },
   "file_extension": ".py",
   "mimetype": "text/x-python",
   "name": "python",
   "nbconvert_exporter": "python",
   "pygments_lexer": "ipython3",
   "version": "3.6.5"
  }
 },
 "nbformat": 4,
 "nbformat_minor": 4
}
